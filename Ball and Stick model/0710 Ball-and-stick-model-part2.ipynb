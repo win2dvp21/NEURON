{
 "cells": [
  {
   "cell_type": "code",
   "execution_count": 1,
   "metadata": {},
   "outputs": [],
   "source": [
    "# we make N cells where cell n makes an excitatory synapse onto cell n+1\n",
    "# the last, Nth cell in the network projects to the first cell"
   ]
  },
  {
   "cell_type": "markdown",
   "metadata": {},
   "source": [
    "# Generic cell class"
   ]
  },
  {
   "cell_type": "code",
   "execution_count": 2,
   "metadata": {},
   "outputs": [],
   "source": [
    "# splitting the BallAndStick class into 2 parts\n",
    "# a generic cell class + that which is specific to the BallAndStick model"
   ]
  },
  {
   "cell_type": "code",
   "execution_count": 3,
   "metadata": {},
   "outputs": [],
   "source": [
    "from neuron import h, gui\n",
    "from neuron.units import ms, mV"
   ]
  },
  {
   "cell_type": "code",
   "execution_count": 4,
   "metadata": {},
   "outputs": [
    {
     "data": {
      "text/plain": [
       "1.0"
      ]
     },
     "execution_count": 4,
     "metadata": {},
     "output_type": "execute_result"
    }
   ],
   "source": [
    "h.load_file('stdrun.hoc')"
   ]
  },
  {
   "cell_type": "code",
   "execution_count": 5,
   "metadata": {},
   "outputs": [],
   "source": [
    "# generic Cell class\n",
    "\n",
    "class Cell:\n",
    "    \n",
    "    def __init__(self, gid):\n",
    "        self._gid = gid\n",
    "        self._setup_morphology()\n",
    "        self.all = self.soma.wholetree()\n",
    "        self._setup_biophysics()\n",
    "        \n",
    "    def __repr__(self):\n",
    "        return '{}[{}]'.format(self.name, self._gid)"
   ]
  },
  {
   "cell_type": "code",
   "execution_count": 6,
   "metadata": {},
   "outputs": [],
   "source": [
    "# ball and stick class\n",
    "\n",
    "class BallAndStick(Cell):\n",
    "    \n",
    "    name = 'BallAndStick'\n",
    "    \n",
    "    def _setup_morphology(self):\n",
    "        self.soma = h.Section(name='soma', cell=self)\n",
    "        self.dend = h.Section(name='dend', cell=self)\n",
    "        self.dend.connect(self.soma)\n",
    "        self.soma.L= self.soma.diam = 12.6157\n",
    "        self.dend.L = 200\n",
    "        self.dend.diam = 1\n",
    "        \n",
    "    def _setup_biophysics(self):\n",
    "        for sec in self.all:\n",
    "            sec.Ra = 100 # axial resistance\n",
    "            sec.cm = 1 # membrane capacitance\n",
    "            \n",
    "        self.soma.insert('hh')\n",
    "        \n",
    "        for seg in self.soma:\n",
    "            seg.hh.gnabar = 0.12 # sodium conductance\n",
    "            seg.hh.gkbar = 0.036 # potassium conductance\n",
    "            seg.hh.gl = 0.0003 # leak conductance\n",
    "            seg.hh.el = -54.3 # reversal potential\n",
    "            \n",
    "        # insert passive current in the dendrite\n",
    "        self.dend.insert('pas')\n",
    "        \n",
    "        for seg in self.dend:\n",
    "            seg.pas.g = 0.001\n",
    "            seg.pas.e = -65"
   ]
  },
  {
   "cell_type": "code",
   "execution_count": 7,
   "metadata": {},
   "outputs": [],
   "source": [
    "# the change of the BallAndStick class\n",
    "\n",
    "# removal of the __init__ and __repr__ methods\n",
    "# the specification of the name of the class\n",
    "# the removal of the definition of self.all\n",
    "# class declaration (to indicate that BallAndStick is a type of Cell)"
   ]
  },
  {
   "cell_type": "markdown",
   "metadata": {},
   "source": [
    "# Adjusting position and orientation"
   ]
  },
  {
   "cell_type": "code",
   "execution_count": 8,
   "metadata": {},
   "outputs": [],
   "source": [
    "# if we have more than one cell, we'd like to be able to position them\n",
    "\n",
    "class Cell:\n",
    "    \n",
    "    def __init__(self, gid, x, y, z, theta):\n",
    "        self._gid = gid\n",
    "        self._setup_morphology()\n",
    "        self.all = self.soma.wholetree()\n",
    "        self._setup_biophysics()\n",
    "        \n",
    "        # New\n",
    "        self.x = self.y = self.z = 0\n",
    "        h.define_shape()\n",
    "        self._rotate_z(theta)\n",
    "        self._set_position(x,y,z)\n",
    "        \n",
    "    def __repr__(self):\n",
    "        return '{}[{}]'.format(self.name, self._gid)\n",
    "    \n",
    "    # New\n",
    "    def _set_position(self, x, y, z):\n",
    "        for sec in self.all:\n",
    "            for i in range(sec.n3d()):\n",
    "                sec.pt3dchange(i,\n",
    "                              x - self.x + sec.x3d(i),\n",
    "                              y - self.y + sec.y3d(i),\n",
    "                              z - self.z + sec.z3d(i),\n",
    "                              sec.diam3d(i))\n",
    "        self.x, self.y, self.z = x, y, z\n",
    "        \n",
    "    def _rotate_z(self, theta):\n",
    "        for sec in self.all:\n",
    "            for i in range(sec.n3d()):\n",
    "                x = sec.x3d(i)\n",
    "                y = sec.y3d(i)\n",
    "                c = h.cos(theta)\n",
    "                s = h.sin(theta)\n",
    "                xprime = x * c - y * s\n",
    "                yprime = x * s + y * c\n",
    "                sec.pt3dchange(i, xprime, yprime, sec.z3d(i), sec.diam3d(i))"
   ]
  },
  {
   "cell_type": "code",
   "execution_count": 9,
   "metadata": {},
   "outputs": [],
   "source": [
    "# rerun it\n",
    "# ball and stick class\n",
    "\n",
    "class BallAndStick(Cell):\n",
    "    \n",
    "    name = 'BallAndStick'\n",
    "    \n",
    "    def _setup_morphology(self):\n",
    "        self.soma = h.Section(name='soma', cell=self)\n",
    "        self.dend = h.Section(name='dend', cell=self)\n",
    "        self.dend.connect(self.soma)\n",
    "        self.soma.L= self.soma.diam = 12.6157\n",
    "        self.dend.L = 200\n",
    "        self.dend.diam = 1\n",
    "        \n",
    "    def _setup_biophysics(self):\n",
    "        for sec in self.all:\n",
    "            sec.Ra = 100 # axial resistance\n",
    "            sec.cm = 1 # membrane capacitance\n",
    "            \n",
    "        self.soma.insert('hh')\n",
    "        \n",
    "        for seg in self.soma:\n",
    "            seg.hh.gnabar = 0.12 # sodium conductance\n",
    "            seg.hh.gkbar = 0.036 # potassium conductance\n",
    "            seg.hh.gl = 0.0003 # leak conductance\n",
    "            seg.hh.el = -54.3 # reversal potential\n",
    "            \n",
    "        # insert passive current in the dendrite\n",
    "        self.dend.insert('pas')\n",
    "        \n",
    "        for seg in self.dend:\n",
    "            seg.pas.g = 0.001\n",
    "            seg.pas.e = -65"
   ]
  },
  {
   "cell_type": "code",
   "execution_count": 10,
   "metadata": {},
   "outputs": [],
   "source": [
    "# Let's create the cell\n",
    "# specify x, y, z and theta in addition to the gid\n",
    "mycell = BallAndStick(0, 0, 0, 0, 0)"
   ]
  },
  {
   "cell_type": "code",
   "execution_count": 11,
   "metadata": {},
   "outputs": [],
   "source": [
    "# delete the test cell\n",
    "del mycell"
   ]
  },
  {
   "cell_type": "markdown",
   "metadata": {},
   "source": [
    "# Construct and position our cells"
   ]
  },
  {
   "cell_type": "code",
   "execution_count": 12,
   "metadata": {},
   "outputs": [],
   "source": [
    "# parameter: N(number of cells), r(radius of the cirle-micron)\n",
    "\n",
    "def create_n_BallAndStick(n, r):\n",
    "    cells = []\n",
    "    \n",
    "    for i in range(n):\n",
    "        theta = i * 2 * h.PI / n\n",
    "        cells.append(BallAndStick(i, h.cos(theta) * r, h.sin(theta) * r, 0, theta))\n",
    "        \n",
    "    return cells"
   ]
  },
  {
   "cell_type": "code",
   "execution_count": 13,
   "metadata": {},
   "outputs": [],
   "source": [
    "# create the cell\n",
    "my_cells = create_n_BallAndStick(7, 50)"
   ]
  },
  {
   "cell_type": "code",
   "execution_count": 14,
   "metadata": {},
   "outputs": [
    {
     "data": {
      "text/plain": [
       "1.0"
      ]
     },
     "execution_count": 14,
     "metadata": {},
     "output_type": "execute_result"
    }
   ],
   "source": [
    "ps = h.PlotShape(True)\n",
    "ps.show(0)"
   ]
  },
  {
   "cell_type": "code",
   "execution_count": 15,
   "metadata": {},
   "outputs": [
    {
     "data": {
      "image/png": "[encoded data removed]",
      "text/plain": [
       "<IPython.core.display.Image object>"
      ]
     },
     "execution_count": 15,
     "metadata": {},
     "output_type": "execute_result"
    }
   ],
   "source": [
    "from IPython.display import Image\n",
    "Image(\"Screenshot from 2023-07-11 10-25-05.png\")"
   ]
  },
  {
   "cell_type": "code",
   "execution_count": 16,
   "metadata": {},
   "outputs": [],
   "source": [
    "my_cells = create_n_BallAndStick(5, 50)"
   ]
  },
  {
   "cell_type": "code",
   "execution_count": 17,
   "metadata": {},
   "outputs": [
    {
     "data": {
      "text/plain": [
       "1.0"
      ]
     },
     "execution_count": 17,
     "metadata": {},
     "output_type": "execute_result"
    }
   ],
   "source": [
    "ps = h.PlotShape(True)\n",
    "ps.show(0)"
   ]
  },
  {
   "cell_type": "code",
   "execution_count": 18,
   "metadata": {},
   "outputs": [
    {
     "data": {
      "image/png": "[encoded data removed]",
      "text/plain": [
       "<IPython.core.display.Image object>"
      ]
     },
     "execution_count": 18,
     "metadata": {},
     "output_type": "execute_result"
    }
   ],
   "source": [
    "Image(\"Screenshot from 2023-07-11 10-27-16.png\")"
   ]
  },
  {
   "cell_type": "markdown",
   "metadata": {},
   "source": [
    "# A first synapse, and input via a NetStim"
   ]
  },
  {
   "cell_type": "code",
   "execution_count": 19,
   "metadata": {},
   "outputs": [],
   "source": [
    "# instead of stimulating with a current electrode -> virtual synapse!\n",
    "\n",
    "# event-based communication - NetCons\n",
    "# when spike is detected, NetCon sends a message to a target(synapse on a postsynaptic cell)\n",
    "\n",
    "# NetStim is a spike generator\n",
    "# act like external input onto the synapse of a target cell"
   ]
  },
  {
   "cell_type": "code",
   "execution_count": 20,
   "metadata": {},
   "outputs": [],
   "source": [
    "# t = 9 : NetStim object\n",
    "# NetCon ms delay -> t = 10 : synaptic event\n",
    "\n",
    "# it behaves like AMPA synapse"
   ]
  },
  {
   "cell_type": "code",
   "execution_count": 21,
   "metadata": {},
   "outputs": [],
   "source": [
    "# make a new stimulator\n",
    "stim = h.NetStim()\n",
    "\n",
    "# attach it to a synapse in the middle of the dendrite of the first cell in the network\n",
    "syn_ = h.ExpSyn(my_cells[0].dend(0.5))\n",
    "\n",
    "stim.number = 1\n",
    "stim.start = 9\n",
    "\n",
    "ncstim = h.NetCon(stim, syn_)\n",
    "ncstim.delay = 1 * ms\n",
    "ncstim.weight[0] = 0.04 # NetCon weight is a vector"
   ]
  },
  {
   "cell_type": "code",
   "execution_count": 22,
   "metadata": {},
   "outputs": [],
   "source": [
    "# specify a time constant of 2ms\n",
    "syn_.tau = 2 * ms"
   ]
  },
  {
   "cell_type": "code",
   "execution_count": 23,
   "metadata": {},
   "outputs": [],
   "source": [
    "# tau specifies how quickly the currents decay\n",
    "# exact value of the current depends on cell's membrane potential, synapse's reversal potential(syn_.e)"
   ]
  },
  {
   "cell_type": "code",
   "execution_count": 24,
   "metadata": {},
   "outputs": [
    {
     "name": "stdout",
     "output_type": "stream",
     "text": [
      "Reversal potential = 0.0 mV\n"
     ]
    }
   ],
   "source": [
    "print('Reversal potential = {} mV'.format(syn_.e))"
   ]
  },
  {
   "cell_type": "markdown",
   "metadata": {},
   "source": [
    "# Running and plotting a simulation"
   ]
  },
  {
   "cell_type": "markdown",
   "metadata": {},
   "source": [
    "## Recording"
   ]
  },
  {
   "cell_type": "code",
   "execution_count": 25,
   "metadata": {},
   "outputs": [],
   "source": [
    "recording_cell = my_cells[0]\n",
    "\n",
    "soma_v = h.Vector().record(recording_cell.soma(0.5)._ref_v)\n",
    "dend_v = h.Vector().record(recording_cell.dend(0.5)._ref_v)\n",
    "t = h.Vector().record(h._ref_t)"
   ]
  },
  {
   "cell_type": "markdown",
   "metadata": {},
   "source": [
    "## Simulating"
   ]
  },
  {
   "cell_type": "code",
   "execution_count": 26,
   "metadata": {},
   "outputs": [
    {
     "data": {
      "text/plain": [
       "0.0"
      ]
     },
     "execution_count": 26,
     "metadata": {},
     "output_type": "execute_result"
    }
   ],
   "source": [
    "h.finitialize(-65 * mV)\n",
    "h.continuerun(25 * ms)"
   ]
  },
  {
   "cell_type": "markdown",
   "metadata": {},
   "source": [
    "## Plotting"
   ]
  },
  {
   "cell_type": "code",
   "execution_count": 27,
   "metadata": {},
   "outputs": [],
   "source": [
    "%matplotlib inline"
   ]
  },
  {
   "cell_type": "code",
   "execution_count": 28,
   "metadata": {},
   "outputs": [
    {
     "data": {
      "image/png": "[encoded data removed]",
      "text/plain": [
       "<Figure size 432x288 with 1 Axes>"
      ]
     },
     "metadata": {
      "needs_background": "light"
     },
     "output_type": "display_data"
    }
   ],
   "source": [
    "import matplotlib.pyplot as plt\n",
    "\n",
    "plt.plot(t, soma_v, label='soma(0.5)')\n",
    "plt.plot(t, dend_v, label='dend(0.5)')\n",
    "plt.legend()\n",
    "plt.show()"
   ]
  },
  {
   "cell_type": "markdown",
   "metadata": {},
   "source": [
    "## Recording synaptic conductance"
   ]
  },
  {
   "cell_type": "code",
   "execution_count": 29,
   "metadata": {},
   "outputs": [],
   "source": [
    "# we want to consider the time series of synaptic current\n",
    "# so create a new Vector to monitor it\n",
    "\n",
    "syn_i = h.Vector().record(syn_._ref_i)"
   ]
  },
  {
   "cell_type": "code",
   "execution_count": 30,
   "metadata": {},
   "outputs": [
    {
     "data": {
      "text/plain": [
       "0.0"
      ]
     },
     "execution_count": 30,
     "metadata": {},
     "output_type": "execute_result"
    }
   ],
   "source": [
    "h.finitialize(-65 * mV)\n",
    "h.continuerun(25 * ms)"
   ]
  },
  {
   "cell_type": "code",
   "execution_count": 31,
   "metadata": {},
   "outputs": [
    {
     "data": {
      "image/png": "[encoded data removed]",
      "text/plain": [
       "<Figure size 576x288 with 2 Axes>"
      ]
     },
     "metadata": {
      "needs_background": "light"
     },
     "output_type": "display_data"
    }
   ],
   "source": [
    "fig = plt.figure(figsize=(8,4))\n",
    "\n",
    "ax1 = fig.add_subplot(2, 1, 1)\n",
    "\n",
    "soma_plot = ax1.plot(t, soma_v, color='black', label='soma(0.5)')\n",
    "dend_plot = ax1.plot(t, dend_v, color='red', label='dend(0.5)')\n",
    "rev_plot = ax1.plot([t[0], t[-1]], [syn_.e, syn_.e], label='syn reversal', color='blue', linestyle=':')\n",
    "\n",
    "ax1.legend()\n",
    "ax1.set_ylabel('mV')\n",
    "ax1.set_xticks([])\n",
    "\n",
    "ax2 = fig.add_subplot(2, 1, 2)\n",
    "syn_plot = ax2.plot(t, syn_i, color='blue', label='synaptic current')\n",
    "\n",
    "ax2.legend()\n",
    "ax2.set_ylabel(h.units('ExpSyn.i'))\n",
    "ax2.set_xlabel('time (ms)')\n",
    "\n",
    "plt.show()"
   ]
  },
  {
   "cell_type": "markdown",
   "metadata": {},
   "source": [
    "# Connecting the cells"
   ]
  },
  {
   "cell_type": "code",
   "execution_count": 32,
   "metadata": {},
   "outputs": [],
   "source": [
    "# we need to connect an axon from cell n to a synapse at the middle of the dendrite on cell n+1\n",
    "# when the soma fires an action potential\n",
    "# spike propagates down the axon and induces a synaptic event onto the dendrite of the target cell with some delay"
   ]
  },
  {
   "cell_type": "code",
   "execution_count": 33,
   "metadata": {},
   "outputs": [],
   "source": [
    "syns = []\n",
    "netcons = []\n",
    "\n",
    "for source, target in zip(my_cells, my_cells[1:] + [my_cells[0]]):\n",
    "    syn = h.ExpSyn(target.dend(0.5))\n",
    "    nc = h.NetCon(source.soma(0.5)._ref_v, syn, sec=source.soma)\n",
    "    nc.weight[0] = 0.05\n",
    "    nc.delay = 5\n",
    "    netcons.append(nc)\n",
    "    syns.append(syn)"
   ]
  },
  {
   "cell_type": "code",
   "execution_count": 34,
   "metadata": {},
   "outputs": [
    {
     "data": {
      "text/plain": [
       "0.0"
      ]
     },
     "execution_count": 34,
     "metadata": {},
     "output_type": "execute_result"
    }
   ],
   "source": [
    "h.finitialize(-65 * mV)\n",
    "h.continuerun(100 * ms)"
   ]
  },
  {
   "cell_type": "code",
   "execution_count": 35,
   "metadata": {},
   "outputs": [
    {
     "data": {
      "image/png": "[encoded data removed]",
      "text/plain": [
       "<Figure size 432x288 with 1 Axes>"
      ]
     },
     "metadata": {
      "needs_background": "light"
     },
     "output_type": "display_data"
    }
   ],
   "source": [
    "plt.plot(t, soma_v, label='soma(0.5)')\n",
    "plt.plot(t, dend_v, label='dend(0.5)')\n",
    "\n",
    "plt.legend()\n",
    "plt.show()"
   ]
  },
  {
   "cell_type": "code",
   "execution_count": 36,
   "metadata": {},
   "outputs": [],
   "source": [
    "# our existing NetCons to record spike times in NEURON Vector objects using NetCon.record\n",
    "\n",
    "spike_times = [h.Vector() for nc in netcons]\n",
    "\n",
    "for nc, spike_times_vec in zip(netcons, spike_times):\n",
    "    nc.record(spike_times_vec)"
   ]
  },
  {
   "cell_type": "code",
   "execution_count": 37,
   "metadata": {},
   "outputs": [
    {
     "data": {
      "text/plain": [
       "0.0"
      ]
     },
     "execution_count": 37,
     "metadata": {},
     "output_type": "execute_result"
    }
   ],
   "source": [
    "h.finitialize(-65 * mV)\n",
    "h.continuerun(100 * ms)"
   ]
  },
  {
   "cell_type": "code",
   "execution_count": 38,
   "metadata": {},
   "outputs": [
    {
     "name": "stdout",
     "output_type": "stream",
     "text": [
      "cell 0: [10.925000000099914, 43.55000000010134, 76.17500000010875]\n",
      "cell 1: [17.450000000099543, 50.075000000102825, 82.70000000011024]\n",
      "cell 2: [23.975000000099172, 56.60000000010431, 89.22500000011172]\n",
      "cell 3: [30.5000000000988, 63.12500000010579, 95.7500000001132]\n",
      "cell 4: [37.02500000009986, 69.65000000010727]\n"
     ]
    }
   ],
   "source": [
    "for i, spike_times_vec in enumerate(spike_times):\n",
    "    print('cell {}: {}'.format(i, list(spike_times_vec)))"
   ]
  },
  {
   "cell_type": "code",
   "execution_count": 39,
   "metadata": {},
   "outputs": [
    {
     "data": {
      "image/png": "[encoded data removed]",
      "text/plain": [
       "<Figure size 432x288 with 1 Axes>"
      ]
     },
     "metadata": {
      "needs_background": "light"
     },
     "output_type": "display_data"
    }
   ],
   "source": [
    "import matplotlib.pyplot as plt\n",
    "\n",
    "plt.figure()\n",
    "\n",
    "for i, spike_times_vec in enumerate(spike_times):\n",
    "    plt.vlines(list(spike_times_vec), i + 0.5, i + 1.5)\n",
    "    \n",
    "plt.show()"
   ]
  }
 ],
 "metadata": {
  "kernelspec": {
   "display_name": "Python 3",
   "language": "python",
   "name": "python3"
  },
  "language_info": {
   "codemirror_mode": {
    "name": "ipython",
    "version": 3
   },
   "file_extension": ".py",
   "mimetype": "text/x-python",
   "name": "python",
   "nbconvert_exporter": "python",
   "pygments_lexer": "ipython3",
   "version": "3.8.10"
  }
 },
 "nbformat": 4,
 "nbformat_minor": 4
}
