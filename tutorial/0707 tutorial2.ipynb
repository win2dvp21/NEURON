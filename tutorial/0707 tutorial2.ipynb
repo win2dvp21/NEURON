{
 "cells": [
  {
   "cell_type": "markdown",
   "metadata": {},
   "source": [
    "# Build soma and inserting Hodgkin-Huxley Channel"
   ]
  },
  {
   "cell_type": "code",
   "execution_count": 1,
   "metadata": {},
   "outputs": [],
   "source": [
    "from neuron import h, gui"
   ]
  },
  {
   "cell_type": "code",
   "execution_count": 2,
   "metadata": {},
   "outputs": [],
   "source": [
    "# create a new section 'soma' with default properties\n",
    "soma = h.Section(name = 'soma')"
   ]
  },
  {
   "cell_type": "code",
   "execution_count": 3,
   "metadata": {},
   "outputs": [],
   "source": [
    "# soma property\n",
    "\n",
    "# number of segment\n",
    "soma.nseg = 1\n",
    "\n",
    "# diameter (um)\n",
    "soma.diam = 18.8 \n",
    "\n",
    "# length\n",
    "soma.L = 18.8\n",
    "\n",
    "# capacitance\n",
    "soma.cm = 1.0\n",
    "\n",
    "# axial resistance\n",
    "soma.Ra = 123.0"
   ]
  },
  {
   "cell_type": "code",
   "execution_count": 4,
   "metadata": {},
   "outputs": [
    {
     "data": {
      "text/plain": [
       "soma"
      ]
     },
     "execution_count": 4,
     "metadata": {},
     "output_type": "execute_result"
    }
   ],
   "source": [
    "# insert HH channel\n",
    "soma.insert('hh')"
   ]
  },
  {
   "cell_type": "code",
   "execution_count": 5,
   "metadata": {},
   "outputs": [],
   "source": [
    "# sodium channel max conductance\n",
    "soma.gnabar_hh = 0.25\n",
    "\n",
    "# potassium channel max conductance\n",
    "soma.gkbar_hh = 0.036\n",
    "\n",
    "# leakage conductance\n",
    "soma.gl_hh = 0.000016667\n",
    "\n",
    "# leakage reversal potential\n",
    "soma.el_hh = -65.0"
   ]
  },
  {
   "cell_type": "code",
   "execution_count": 6,
   "metadata": {},
   "outputs": [],
   "source": [
    "# sodium reversal potential\n",
    "soma.ena = 50\n",
    "\n",
    "# potassium reversal potential\n",
    "soma.ek = -81"
   ]
  },
  {
   "cell_type": "markdown",
   "metadata": {},
   "source": [
    "# Multi-compartment modeling"
   ]
  },
  {
   "cell_type": "code",
   "execution_count": 7,
   "metadata": {},
   "outputs": [],
   "source": [
    "# create apical dendrite\n",
    "apical = h.Section(name = 'apical')"
   ]
  },
  {
   "cell_type": "code",
   "execution_count": 8,
   "metadata": {},
   "outputs": [],
   "source": [
    "# set properties of apical\n",
    "\n",
    "apical.nseg = 5\n",
    "apical.diam = 3.18\n",
    "apical.L = 701.9\n",
    "apical.Ra = 123"
   ]
  },
  {
   "cell_type": "code",
   "execution_count": 9,
   "metadata": {},
   "outputs": [
    {
     "data": {
      "text/plain": [
       "apical"
      ]
     },
     "execution_count": 9,
     "metadata": {},
     "output_type": "execute_result"
    }
   ],
   "source": [
    "# insert HH channel\n",
    "apical.insert('hh')"
   ]
  },
  {
   "cell_type": "code",
   "execution_count": 10,
   "metadata": {},
   "outputs": [],
   "source": [
    "apical.gnabar_hh = 0.01\n",
    "apical.gkbar_hh = 0.0036\n",
    "apical.gl_hh = 0.000016667\n",
    "apical.el_hh = -65"
   ]
  },
  {
   "cell_type": "code",
   "execution_count": 11,
   "metadata": {},
   "outputs": [
    {
     "data": {
      "text/plain": [
       "apical"
      ]
     },
     "execution_count": 11,
     "metadata": {},
     "output_type": "execute_result"
    }
   ],
   "source": [
    "# connect apical(0) onto soma(1)\n",
    "apical.connect(soma(1), 0)"
   ]
  },
  {
   "cell_type": "markdown",
   "metadata": {},
   "source": [
    "# Multi-compartment modeling "
   ]
  },
  {
   "cell_type": "code",
   "execution_count": 12,
   "metadata": {
    "scrolled": true
   },
   "outputs": [
    {
     "name": "stdout",
     "output_type": "stream",
     "text": [
      "\n",
      "|-|       soma(0-1)\n",
      "   `----|       apical(0-1)\n",
      "\n",
      "1.0\n"
     ]
    }
   ],
   "source": [
    "# to check the connection of the model\n",
    "print(h.topology())"
   ]
  },
  {
   "cell_type": "markdown",
   "metadata": {},
   "source": [
    "# Creating a current stimulation on soma"
   ]
  },
  {
   "cell_type": "code",
   "execution_count": 13,
   "metadata": {},
   "outputs": [],
   "source": [
    "# make IClamp on center of the soma\n",
    "ic = h.IClamp(soma(0.5))"
   ]
  },
  {
   "cell_type": "code",
   "execution_count": 14,
   "metadata": {},
   "outputs": [],
   "source": [
    "# setting the property of IClamp\n",
    "\n",
    "# delay of onset\n",
    "ic.delay = 10\n",
    "\n",
    "# duration of onset\n",
    "ic.dur = 2\n",
    "\n",
    "# amplitude of Stim\n",
    "ic.amp = 0.4"
   ]
  },
  {
   "cell_type": "markdown",
   "metadata": {},
   "source": [
    "# Simulation"
   ]
  },
  {
   "cell_type": "code",
   "execution_count": 15,
   "metadata": {},
   "outputs": [],
   "source": [
    "# graph\n",
    "g = h.Graph(0)\n",
    "\n",
    "# add variable to the item list\n",
    "g.addvar(\"soma\", soma(0.5)._ref_v)\n",
    "g.addvar(\"apical\", apical(0.5)._ref_v)\n",
    "\n",
    "# Record membrane potentials\n",
    "t = h.Vector().record(h._ref_t)\n",
    "sv = h.Vector().record(soma(0.5)._ref_v)\n",
    "av = h.Vector().record(apical(0.5)._ref_v)"
   ]
  },
  {
   "cell_type": "code",
   "execution_count": 16,
   "metadata": {},
   "outputs": [],
   "source": [
    "# simulation environment\n",
    "\n",
    "# duration of simulation\n",
    "h.tstop = 40\n",
    "\n",
    "# time step\n",
    "h.dt = 0.025\n",
    "\n",
    "# initialized Vm\n",
    "h.v_init = -75"
   ]
  },
  {
   "cell_type": "code",
   "execution_count": 17,
   "metadata": {},
   "outputs": [
    {
     "data": {
      "text/plain": [
       "0.0"
      ]
     },
     "execution_count": 17,
     "metadata": {},
     "output_type": "execute_result"
    }
   ],
   "source": [
    "# initialize simulation with resting membrane potential (h.v_init)\n",
    "h.init()\n",
    "\n",
    "# run the simulation\n",
    "h.run()"
   ]
  },
  {
   "cell_type": "code",
   "execution_count": 18,
   "metadata": {},
   "outputs": [
    {
     "data": {
      "image/png": "[encoded data removed]",
      "text/plain": [
       "<Figure size 432x288 with 1 Axes>"
      ]
     },
     "metadata": {
      "needs_background": "light"
     },
     "output_type": "display_data"
    }
   ],
   "source": [
    "import matplotlib.pyplot as plt\n",
    "\n",
    "# Plot membrane potentials\n",
    "plt.figure()\n",
    "plt.plot(t, sv, label='soma')\n",
    "plt.plot(t, av, label='apical')\n",
    "plt.xlabel('t (ms)')\n",
    "plt.ylabel('v (mV)')\n",
    "plt.legend()\n",
    "plt.show()"
   ]
  }
 ],
 "metadata": {
  "kernelspec": {
   "display_name": "Python 3",
   "language": "python",
   "name": "python3"
  },
  "language_info": {
   "codemirror_mode": {
    "name": "ipython",
    "version": 3
   },
   "file_extension": ".py",
   "mimetype": "text/x-python",
   "name": "python",
   "nbconvert_exporter": "python",
   "pygments_lexer": "ipython3",
   "version": "3.8.10"
  }
 },
 "nbformat": 4,
 "nbformat_minor": 4
}
