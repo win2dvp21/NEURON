{
 "cells": [
  {
   "cell_type": "markdown",
   "metadata": {},
   "source": [
    "# How to Create Theta Frequency Network Oscillation"
   ]
  },
  {
   "cell_type": "markdown",
   "metadata": {},
   "source": [
    " ## Step 1. Create 20 eIAF Neurons"
   ]
  },
  {
   "cell_type": "code",
   "execution_count": 1,
   "metadata": {},
   "outputs": [],
   "source": [
    "from neuron import h, gui"
   ]
  },
  {
   "cell_type": "code",
   "execution_count": 2,
   "metadata": {},
   "outputs": [],
   "source": [
    "# the number of cells\n",
    "nCell = 20\n",
    "\n",
    "cells = []\n",
    "\n",
    "for _ in range(0, nCell):\n",
    "    # to assign IntFire1() to IAF\n",
    "    iaf = h.IntFire1()\n",
    "    iaf.refrac = 5\n",
    "    cells.append(iaf)"
   ]
  },
  {
   "cell_type": "code",
   "execution_count": 3,
   "metadata": {},
   "outputs": [],
   "source": [
    "# stimulation for each IAF neuron\n",
    "stims = []\n",
    "\n",
    "# stimulation -> neuron connectivity\n",
    "ncs = []\n",
    "\n",
    "for i in range(0, nCell):\n",
    "    # to assign NetStim() to EX\n",
    "    ex = h.NetStim()\n",
    "    \n",
    "    # the time input comes (starts)\n",
    "    ex.start = 50\n",
    "    \n",
    "    # the time between each input\n",
    "    ex.interval = 5\n",
    "    \n",
    "    # the number of inputs\n",
    "    ex. number = 500\n",
    "    \n",
    "    # the level of noise (from 0 to 1)\n",
    "    ex.noise = 1\n",
    "    \n",
    "    stims.append(ex)\n",
    "    \n",
    "    # source, target, threshold, delay, weight\n",
    "    # to connect the source to the target\n",
    "    nc = h.NetCon(ex, cells[i], 1, 0, 0.5)\n",
    "    \n",
    "    ncs.append(nc)"
   ]
  },
  {
   "cell_type": "markdown",
   "metadata": {},
   "source": [
    "## Step 2. Generating Inhibitory Inputs and Its Connection"
   ]
  },
  {
   "cell_type": "code",
   "execution_count": 4,
   "metadata": {},
   "outputs": [],
   "source": [
    "# inhibitory connectivity\n",
    "inh = h.NetStim()\n",
    "inh.start = 500\n",
    "inh.interval = 300\n",
    "inh.number = 5\n",
    "inh.noise = 0\n",
    "\n",
    "inh_ncs = []\n",
    "\n",
    "for i in range(0, nCell):\n",
    "    inh_ncs.append(h.NetCon(inh, cells[i], 1, 0, -0.5))"
   ]
  },
  {
   "cell_type": "markdown",
   "metadata": {},
   "source": [
    "## Step 3. Record and plot the spike timings of each spike"
   ]
  },
  {
   "cell_type": "code",
   "execution_count": 5,
   "metadata": {},
   "outputs": [],
   "source": [
    "# simulation time\n",
    "h.tstop = 3000\n",
    "\n",
    "# dummy section for NEURON scripting\n",
    "soma = h.Section()\n",
    "\n",
    "# time\n",
    "tvec = h.Vector().record(h._ref_t)"
   ]
  },
  {
   "cell_type": "code",
   "execution_count": 6,
   "metadata": {},
   "outputs": [],
   "source": [
    "# spike time recordings\n",
    "spkts = []\n",
    "\n",
    "for i in range(0, nCell):\n",
    "    spkts.append(h.Vector())\n",
    "    h.NetCon(cells[i], None).record(spkts[-1])"
   ]
  },
  {
   "cell_type": "code",
   "execution_count": 7,
   "metadata": {},
   "outputs": [
    {
     "data": {
      "text/plain": [
       "0.0"
      ]
     },
     "execution_count": 7,
     "metadata": {},
     "output_type": "execute_result"
    }
   ],
   "source": [
    "h.init()\n",
    "h.run()"
   ]
  },
  {
   "cell_type": "code",
   "execution_count": 8,
   "metadata": {},
   "outputs": [
    {
     "data": {
      "image/png": "[encoded data removed]",
      "text/plain": [
       "<Figure size 432x288 with 1 Axes>"
      ]
     },
     "metadata": {
      "needs_background": "light"
     },
     "output_type": "display_data"
    }
   ],
   "source": [
    "import matplotlib.pyplot as plt\n",
    "\n",
    "plt.figure()\n",
    "plt.eventplot(spkts)\n",
    "plt.xlim(tvec.min(), tvec.max())\n",
    "\n",
    "plt.xlabel('Time (ms)')\n",
    "plt.ylabel('Neuron index')\n",
    "\n",
    "plt.show()"
   ]
  }
 ],
 "metadata": {
  "kernelspec": {
   "display_name": "Python 3",
   "language": "python",
   "name": "python3"
  },
  "language_info": {
   "codemirror_mode": {
    "name": "ipython",
    "version": 3
   },
   "file_extension": ".py",
   "mimetype": "text/x-python",
   "name": "python",
   "nbconvert_exporter": "python",
   "pygments_lexer": "ipython3",
   "version": "3.8.10"
  }
 },
 "nbformat": 4,
 "nbformat_minor": 4
}
