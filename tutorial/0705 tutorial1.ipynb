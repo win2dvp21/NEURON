{
 "cells": [
  {
   "cell_type": "markdown",
   "metadata": {},
   "source": [
    "# Build the most simplified neuron model"
   ]
  },
  {
   "cell_type": "code",
   "execution_count": 1,
   "metadata": {},
   "outputs": [],
   "source": [
    "from neuron import h, gui"
   ]
  },
  {
   "cell_type": "code",
   "execution_count": 2,
   "metadata": {},
   "outputs": [],
   "source": [
    "# create a new section 'soma' with default properties\n",
    "soma = h.Section(name='soma')"
   ]
  },
  {
   "cell_type": "code",
   "execution_count": 3,
   "metadata": {},
   "outputs": [],
   "source": [
    "# soma property\n",
    "\n",
    "# number of segment\n",
    "soma.nseg = 1\n",
    "\n",
    "# diameter (um)\n",
    "soma.diam = 18.8 \n",
    "\n",
    "# length\n",
    "soma.L = 18.8\n",
    "\n",
    "# capacitance\n",
    "soma.cm = 1.0\n",
    "\n",
    "# axial resistance\n",
    "soma.Ra = 123.0"
   ]
  },
  {
   "cell_type": "code",
   "execution_count": 4,
   "metadata": {},
   "outputs": [
    {
     "name": "stdout",
     "output_type": "stream",
     "text": [
      "{'point_processes': {}, 'density_mechs': {}, 'ions': {}, 'morphology': {'L': 18.8, 'diam': [18.8], 'pts3d': [], 'parent': None, 'trueparent': None}, 'nseg': 1, 'Ra': 123.0, 'cm': [1.0], 'regions': set(), 'species': set(), 'name': 'soma', 'hoc_internal_name': '__nrnsec_0x2ef6040', 'cell': None}\n"
     ]
    }
   ],
   "source": [
    "# query the soma\n",
    "print(soma.psection())"
   ]
  },
  {
   "cell_type": "markdown",
   "metadata": {},
   "source": [
    "# Inserting Hodgkin-Huxley Channel into soma"
   ]
  },
  {
   "cell_type": "code",
   "execution_count": 5,
   "metadata": {},
   "outputs": [
    {
     "data": {
      "text/plain": [
       "soma"
      ]
     },
     "execution_count": 5,
     "metadata": {},
     "output_type": "execute_result"
    }
   ],
   "source": [
    "# insert HH channel\n",
    "soma.insert('hh')"
   ]
  },
  {
   "cell_type": "code",
   "execution_count": 6,
   "metadata": {},
   "outputs": [],
   "source": [
    "# sodium channel max conductance\n",
    "soma.gnabar_hh = 0.25\n",
    "\n",
    "# potassium channel max conductance\n",
    "soma.gkbar_hh = 0.036\n",
    "\n",
    "# leakage conductance\n",
    "soma.gl_hh = 0.000016667\n",
    "\n",
    "# leakage reversal potential\n",
    "soma.el_hh = -65.0"
   ]
  },
  {
   "cell_type": "code",
   "execution_count": 7,
   "metadata": {},
   "outputs": [],
   "source": [
    "# sodium reversal potential\n",
    "soma.ena = 50\n",
    "\n",
    "# potassium reversal potential\n",
    "soma.ek = -81"
   ]
  },
  {
   "cell_type": "code",
   "execution_count": 8,
   "metadata": {},
   "outputs": [
    {
     "name": "stdout",
     "output_type": "stream",
     "text": [
      "{'point_processes': {}, 'density_mechs': {'hh': {'gnabar': [0.25], 'gkbar': [0.036], 'gl': [1.6667e-05], 'el': [-65.0], 'gna': [0.0], 'gk': [0.0], 'il': [0.0], 'minf': [0.0], 'hinf': [0.0], 'ninf': [0.0], 'mtau': [0.0], 'htau': [0.0], 'ntau': [0.0], 'm': [0.0], 'h': [0.0], 'n': [0.0]}}, 'ions': {'na': {'ena': [50.0], 'nai': [10.0], 'nao': [140.0], 'ina': [0.0], 'dina_dv_': [0.0]}, 'k': {'ek': [-81.0], 'ki': [54.4], 'ko': [2.5], 'ik': [0.0], 'dik_dv_': [0.0]}}, 'morphology': {'L': 18.8, 'diam': [18.8], 'pts3d': [], 'parent': None, 'trueparent': None}, 'nseg': 1, 'Ra': 123.0, 'cm': [1.0], 'regions': set(), 'species': set(), 'name': 'soma', 'hoc_internal_name': '__nrnsec_0x2ef6040', 'cell': None}\n"
     ]
    }
   ],
   "source": [
    "print(soma.psection())"
   ]
  },
  {
   "cell_type": "markdown",
   "metadata": {},
   "source": [
    "# Creating a current stimulation on soma"
   ]
  },
  {
   "cell_type": "code",
   "execution_count": 9,
   "metadata": {},
   "outputs": [],
   "source": [
    "# make IClamp on center of the soma\n",
    "ic = h.IClamp(soma(0.5))"
   ]
  },
  {
   "cell_type": "code",
   "execution_count": 10,
   "metadata": {},
   "outputs": [],
   "source": [
    "# setting the property of IClamp\n",
    "\n",
    "# delay of onset\n",
    "ic.delay = 10\n",
    "\n",
    "# duration of onset\n",
    "ic.dur = 2\n",
    "\n",
    "# amplitude of Stim\n",
    "ic.amp = 0.4"
   ]
  },
  {
   "cell_type": "markdown",
   "metadata": {},
   "source": [
    "# Set up recording variables and simulation environment"
   ]
  },
  {
   "cell_type": "code",
   "execution_count": 11,
   "metadata": {},
   "outputs": [],
   "source": [
    "# membrane potential vector\n",
    "v = h.Vector().record(soma(0.5)._ref_v)\n",
    "\n",
    "# time stamp vector\n",
    "t = h.Vector().record(h._ref_t) # 'h._ref_v' to 'h._ref_t'"
   ]
  },
  {
   "cell_type": "code",
   "execution_count": 12,
   "metadata": {},
   "outputs": [],
   "source": [
    "# simulation environment\n",
    "\n",
    "# duration of simulation\n",
    "h.tstop = 40\n",
    "\n",
    "# time step\n",
    "h.dt = 0.025\n",
    "\n",
    "# initialized Vm\n",
    "h.v_init = -75"
   ]
  },
  {
   "cell_type": "markdown",
   "metadata": {},
   "source": [
    "## Simulation"
   ]
  },
  {
   "cell_type": "code",
   "execution_count": null,
   "metadata": {},
   "outputs": [],
   "source": [
    "# initialize simulation with resting membrane potential (h.v_init)\n",
    "h.init()\n",
    "\n",
    "# run the simulation\n",
    "h.run()"
   ]
  },
  {
   "cell_type": "code",
   "execution_count": null,
   "metadata": {},
   "outputs": [],
   "source": [
    "# plot potential with matplotlib\n",
    "import matplotlib.pyplot as plt\n",
    "\n",
    "plt.figure()\n",
    "plt.plot(t,v)\n",
    "plt.xlabel('t (ms)')\n",
    "plt.ylabel('v (mV)')\n",
    "plt.show()"
   ]
  },
  {
   "cell_type": "markdown",
   "metadata": {},
   "source": [
    "## Built-in Neuron plotter"
   ]
  },
  {
   "cell_type": "code",
   "execution_count": 13,
   "metadata": {},
   "outputs": [
    {
     "data": {
      "text/plain": [
       "1.0"
      ]
     },
     "execution_count": 13,
     "metadata": {},
     "output_type": "execute_result"
    }
   ],
   "source": [
    "# graph\n",
    "g = h.Graph(0)\n",
    "\n",
    "# axis (xmin, xmax, ymin, ymax)\n",
    "g.size(0, 40, -80, 50)\n",
    "\n",
    "# add variable to the item list\n",
    "g.addvar(\"soma\", soma(0.5)._ref_v)"
   ]
  },
  {
   "cell_type": "code",
   "execution_count": 14,
   "metadata": {},
   "outputs": [
    {
     "data": {
      "text/plain": [
       "1.0"
      ]
     },
     "execution_count": 14,
     "metadata": {},
     "output_type": "execute_result"
    }
   ],
   "source": [
    "# this make the graph automatically plot a variable during run() like Live View or Live Plot\n",
    "h.graphList[0].append(g)"
   ]
  },
  {
   "cell_type": "code",
   "execution_count": 15,
   "metadata": {
    "scrolled": false
   },
   "outputs": [
    {
     "data": {
      "text/plain": [
       "0.0"
      ]
     },
     "execution_count": 15,
     "metadata": {},
     "output_type": "execute_result"
    }
   ],
   "source": [
    "h.init()\n",
    "h.run()"
   ]
  },
  {
   "cell_type": "code",
   "execution_count": 16,
   "metadata": {},
   "outputs": [
    {
     "data": {
      "image/png": "[encoded data removed]",
      "text/plain": [
       "<Figure size 432x288 with 1 Axes>"
      ]
     },
     "metadata": {
      "needs_background": "light"
     },
     "output_type": "display_data"
    }
   ],
   "source": [
    "# plot potential with matplotlib\n",
    "import matplotlib.pyplot as plt\n",
    "\n",
    "plt.figure()\n",
    "plt.plot(t,v)\n",
    "plt.xlabel('t (ms)')\n",
    "plt.ylabel('v (mV)')\n",
    "plt.show()"
   ]
  },
  {
   "cell_type": "code",
   "execution_count": null,
   "metadata": {},
   "outputs": [],
   "source": []
  }
 ],
 "metadata": {
  "kernelspec": {
   "display_name": "Python 3",
   "language": "python",
   "name": "python3"
  },
  "language_info": {
   "codemirror_mode": {
    "name": "ipython",
    "version": 3
   },
   "file_extension": ".py",
   "mimetype": "text/x-python",
   "name": "python",
   "nbconvert_exporter": "python",
   "pygments_lexer": "ipython3",
   "version": "3.8.10"
  }
 },
 "nbformat": 4,
 "nbformat_minor": 4
}
