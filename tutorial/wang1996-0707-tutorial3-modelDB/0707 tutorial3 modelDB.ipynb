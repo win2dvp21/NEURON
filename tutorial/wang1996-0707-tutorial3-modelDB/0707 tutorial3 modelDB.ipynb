{
 "cells": [
  {
   "cell_type": "code",
   "execution_count": 1,
   "metadata": {},
   "outputs": [
    {
     "name": "stdout",
     "output_type": "stream",
     "text": [
      "/home/hjang/data2/win2dvp21/Desktop/NEURON practice/wang1996\n",
      "Mod files: \"./fvpre.mod\" \"./kdr.mod\" \"./naf.mod\" \"./vecst.mod\"\n",
      "\n",
      "Creating 'x86_64' directory for .o files.\n",
      "\n",
      " -> \u001b[32mCompiling\u001b[0m mod_func.cpp\n",
      " -> \u001b[32mNMODL\u001b[0m ../fvpre.mod\n",
      " -> \u001b[32mNMODL\u001b[0m ../kdr.mod\n",
      " -> \u001b[32mNMODL\u001b[0m ../naf.mod\n",
      "Translating fvpre.mod into /home/hjang/data2/win2dvp21/Desktop/NEURON practice/wang1996/x86_64/fvpre.c\n",
      "Translating kdr.mod into /home/hjang/data2/win2dvp21/Desktop/NEURON practice/wang1996/x86_64/kdr.c\n",
      "Notice: Use of POINTER is not thread safe.\n",
      "INCLUDEing geneval_cvode.inc\n",
      "Translating naf.mod into /home/hjang/data2/win2dvp21/Desktop/NEURON practice/wang1996/x86_64/naf.c\n",
      "Notice: Assignment to the GLOBAL variable, \"Inf\", is not thread safe\n",
      "Notice: Assignment to the GLOBAL variable, \"Tau\", is not thread safe\n",
      "Notice: Assignment to the GLOBAL variable, \"qq10\", is not thread safe\n",
      "Notice: Assignment to the GLOBAL variable, \"Inf\", is not thread safe\n",
      "Notice: Assignment to the GLOBAL variable, \"Tau\", is not thread safe\n",
      " -> \u001b[32mNMODL\u001b[0m ../vecst.mod\n",
      " -> \u001b[32mCompiling\u001b[0m fvpre.c\n",
      " -> \u001b[32mCompiling\u001b[0m naf.c\n",
      "Translating vecst.mod into /home/hjang/data2/win2dvp21/Desktop/NEURON practice/wang1996/x86_64/vecst.c\n",
      "Notice: VERBATIM blocks are not thread safe\n",
      "Notice: Assignment to the GLOBAL variable, \"RES\", is not thread safe\n",
      "Notice: Assignment to the GLOBAL variable, \"VECST_INSTALLED\", is not thread safe\n",
      " -> \u001b[32mCompiling\u001b[0m kdr.c\n",
      " -> \u001b[32mCompiling\u001b[0m vecst.c\n",
      "\u001b[01m\u001b[Kvecst.c:\u001b[m\u001b[K In function ‘\u001b[01m\u001b[Kird\u001b[m\u001b[K’:\n",
      "\u001b[01m\u001b[Kvecst.c:471:3:\u001b[m\u001b[K \u001b[01;35m\u001b[Kwarning: \u001b[m\u001b[Kignoring return value of ‘\u001b[01m\u001b[Kfread\u001b[m\u001b[K’, declared with attribute warn_unused_result [\u001b[01;35m\u001b[K-Wunused-result\u001b[m\u001b[K]\n",
      "  471 |   \u001b[01;35m\u001b[Kfread(&n,sizeof(int),1,f)\u001b[m\u001b[K;  // size\n",
      "      |   \u001b[01;35m\u001b[K^~~~~~~~~~~~~~~~~~~~~~~~~\u001b[m\u001b[K\n",
      "\u001b[01m\u001b[Kvecst.c:486:3:\u001b[m\u001b[K \u001b[01;35m\u001b[Kwarning: \u001b[m\u001b[Kignoring return value of ‘\u001b[01m\u001b[Kfread\u001b[m\u001b[K’, declared with attribute warn_unused_result [\u001b[01;35m\u001b[K-Wunused-result\u001b[m\u001b[K]\n",
      "  486 |   \u001b[01;35m\u001b[Kfread(scr,sizeof(int),n,f)\u001b[m\u001b[K;\n",
      "      |   \u001b[01;35m\u001b[K^~~~~~~~~~~~~~~~~~~~~~~~~~\u001b[m\u001b[K\n",
      " => \u001b[32mLINKING\u001b[0m shared library ./libnrnmech.so\n",
      " => \u001b[32mLINKING\u001b[0m executable ./special LDFLAGS are:    -pthread\n",
      "Successfully created x86_64/special\n"
     ]
    }
   ],
   "source": [
    "!nrnivmodl"
   ]
  },
  {
   "cell_type": "code",
   "execution_count": 2,
   "metadata": {},
   "outputs": [
    {
     "name": "stdout",
     "output_type": "stream",
     "text": [
      "NEURON -- VERSION 8.2.2 HEAD (93d41fafd) 2022-12-15\n",
      "Duke, Yale, and the BlueBrain Project -- Copyright 1984-2022\n",
      "See http://neuron.yale.edu/neuron/credits\n",
      "\n",
      "Additional mechanisms from files\n",
      " \"fvpre.mod\" \"kdr.mod\" \"naf.mod\" \"vecst.mod\"\n",
      "special: unable to open font \"*helvetica-medium-r-normal*--14*\", using \"fixed\"\n",
      "0 /home/hjang/data2/win2dvp21/Desktop/NEURON practice/wang1996/x86_64/special: can't open fig1A.hoc\n",
      "oc>^C\n",
      "oc>"
     ]
    }
   ],
   "source": [
    "!nrngui fig1A.hoc"
   ]
  },
  {
   "cell_type": "code",
   "execution_count": null,
   "metadata": {},
   "outputs": [
    {
     "name": "stdout",
     "output_type": "stream",
     "text": [
      "NEURON -- VERSION 8.2.2 HEAD (93d41fafd) 2022-12-15\n",
      "Duke, Yale, and the BlueBrain Project -- Copyright 1984-2022\n",
      "See http://neuron.yale.edu/neuron/credits\n",
      "\n",
      "Additional mechanisms from files\n",
      " \"fvpre.mod\" \"kdr.mod\" \"naf.mod\" \"vecst.mod\"\n",
      "special: unable to open font \"*helvetica-medium-r-normal*--14*\", using \"fixed\"\n",
      "\t1 \n",
      "\t0 \n",
      "\t0 \n",
      "\t0 \n",
      "\t0 \n",
      "\t0 \n",
      "oc>/home/hjang/data2/win2dvp21/Desktop/NEURON practice/wang1996/x86_64/special: Assignment to modern physical constant FARADAY\n",
      " in jnsci16_6402F3.hoc near line 86\n",
      " FARADAY = 96520.        /* Hoc default = 96484.56 */\n",
      "                                                     ^\n",
      "\t1 \n",
      "Init complete.\n",
      "\n",
      "Loading decvec\n",
      "\t1 \n",
      "\t1 \n",
      "\t0 \n",
      "\t1 \n",
      "V_init mean=-61.216; sdev=3.90528\n",
      "\n"
     ]
    }
   ],
   "source": [
    "!nrngui mosinit.hoc"
   ]
  },
  {
   "cell_type": "code",
   "execution_count": null,
   "metadata": {},
   "outputs": [],
   "source": []
  }
 ],
 "metadata": {
  "kernelspec": {
   "display_name": "Python 3",
   "language": "python",
   "name": "python3"
  },
  "language_info": {
   "codemirror_mode": {
    "name": "ipython",
    "version": 3
   },
   "file_extension": ".py",
   "mimetype": "text/x-python",
   "name": "python",
   "nbconvert_exporter": "python",
   "pygments_lexer": "ipython3",
   "version": "3.8.10"
  }
 },
 "nbformat": 4,
 "nbformat_minor": 4
}
