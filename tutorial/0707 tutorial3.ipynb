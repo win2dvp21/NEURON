{
 "cells": [
  {
   "cell_type": "markdown",
   "metadata": {},
   "source": [
    "# How to Create Excitatory IAF Neuron"
   ]
  },
  {
   "cell_type": "markdown",
   "metadata": {},
   "source": [
    "## Step 1. IntFire1(): Create IAF neuron"
   ]
  },
  {
   "cell_type": "code",
   "execution_count": 1,
   "metadata": {},
   "outputs": [],
   "source": [
    "from neuron import h, gui\n",
    "\n",
    "# to assign IntFire1() to IAF\n",
    "iaf = h.IntFire1()\n",
    "\n",
    "# refractory period\n",
    "iaf.refrac = 5\n",
    "\n",
    "# time constant, decay period\n",
    "iaf.tau = 10"
   ]
  },
  {
   "cell_type": "markdown",
   "metadata": {},
   "source": [
    "## Step 2. NetStim(): Generate Excitatory Inputs "
   ]
  },
  {
   "cell_type": "code",
   "execution_count": 2,
   "metadata": {},
   "outputs": [],
   "source": [
    "# to assign NetStim() to EX\n",
    "ex = h.NetStim()\n",
    "\n",
    "# the time inputs comes (starts)\n",
    "ex.start = 10\n",
    "\n",
    "# the time between each input\n",
    "ex.interval = 5\n",
    "\n",
    "# the number of inputs\n",
    "ex.number = 5\n",
    "\n",
    "# the level of noise (from 0 to 1)\n",
    "ex.noise = 0"
   ]
  },
  {
   "cell_type": "markdown",
   "metadata": {},
   "source": [
    "## Step 3. NetCon(): Connect the inputs to the IAF neuron"
   ]
  },
  {
   "cell_type": "code",
   "execution_count": 3,
   "metadata": {},
   "outputs": [],
   "source": [
    "# to connect the source to the target\n",
    "nc = h.NetCon(ex, iaf)\n",
    "\n",
    "# IntFire1() has its own threshold, 1\n",
    "# threshold of Netcon wouldn't do anything\n",
    "# so, this is for inituitive understanding\n",
    "nc.threshold = 1\n",
    "\n",
    "nc.delay = 0\n",
    "nc.weight[0] = 0.5"
   ]
  },
  {
   "cell_type": "markdown",
   "metadata": {},
   "source": [
    "## Step 4. Plot the results"
   ]
  },
  {
   "cell_type": "code",
   "execution_count": 4,
   "metadata": {},
   "outputs": [],
   "source": [
    "h.tstop = 50\n",
    "\n",
    "# dummy section for NEURON scripting\n",
    "soma = h.Section()\n",
    "\n",
    "# time\n",
    "tvec = h.Vector().record(h._ref_t)\n",
    "\n",
    "vvec = h.Vector().record(iaf._ref_m)\n",
    "\n",
    "# IAF1 doesn't have membrane potential, use state variable"
   ]
  },
  {
   "cell_type": "code",
   "execution_count": 5,
   "metadata": {},
   "outputs": [
    {
     "data": {
      "text/plain": [
       "0.0"
      ]
     },
     "execution_count": 5,
     "metadata": {},
     "output_type": "execute_result"
    }
   ],
   "source": [
    "h.init()\n",
    "h.run()"
   ]
  },
  {
   "cell_type": "code",
   "execution_count": 6,
   "metadata": {},
   "outputs": [
    {
     "data": {
      "image/png": "[encoded data removed]",
      "text/plain": [
       "<Figure size 432x288 with 1 Axes>"
      ]
     },
     "metadata": {
      "needs_background": "light"
     },
     "output_type": "display_data"
    }
   ],
   "source": [
    "import matplotlib.pyplot as plt\n",
    "\n",
    "plt.figure()\n",
    "plt.plot(tvec, vvec)\n",
    "plt.show()"
   ]
  },
  {
   "cell_type": "markdown",
   "metadata": {},
   "source": [
    "## Step 5. Plotting the analytic variable - advance function"
   ]
  },
  {
   "cell_type": "code",
   "execution_count": 7,
   "metadata": {},
   "outputs": [],
   "source": [
    "# dummy section for NEURON scripting\n",
    "soma = h.Section()\n",
    "\n",
    "# time\n",
    "# tvec = h.Vector().record(h._ref_t)\n",
    "\n",
    "# redefine the NEURON's advance\n",
    "h('proc advance() {nrnpython(\"myadvance()\")}')\n",
    "\n",
    "vvec_analytic = h.Vector()\n",
    "\n",
    "def myadvance():\n",
    "    # catch analytic variable of IntFire1 during simulation\n",
    "    vvec_analytic.append(iaf.M())\n",
    "    h.fadvance()"
   ]
  },
  {
   "cell_type": "code",
   "execution_count": 8,
   "metadata": {},
   "outputs": [
    {
     "data": {
      "text/plain": [
       "0.0"
      ]
     },
     "execution_count": 8,
     "metadata": {},
     "output_type": "execute_result"
    }
   ],
   "source": [
    "h.init()\n",
    "h.run()"
   ]
  },
  {
   "cell_type": "code",
   "execution_count": 9,
   "metadata": {},
   "outputs": [
    {
     "data": {
      "text/plain": [
       "Vector[5]"
      ]
     },
     "execution_count": 9,
     "metadata": {},
     "output_type": "execute_result"
    }
   ],
   "source": [
    "# catch the last analytic variable of IntFire1\n",
    "vvec_analytic.append(iaf.M())"
   ]
  },
  {
   "cell_type": "code",
   "execution_count": 10,
   "metadata": {},
   "outputs": [
    {
     "data": {
      "image/png": "[encoded data removed]",
      "text/plain": [
       "<Figure size 432x288 with 1 Axes>"
      ]
     },
     "metadata": {
      "needs_background": "light"
     },
     "output_type": "display_data"
    }
   ],
   "source": [
    "import matplotlib.pyplot as plt\n",
    "\n",
    "plt.figure()\n",
    "plt.plot(tvec, vvec)\n",
    "plt.show()"
   ]
  },
  {
   "cell_type": "markdown",
   "metadata": {},
   "source": [
    "## Step 6. Raster plot"
   ]
  },
  {
   "cell_type": "code",
   "execution_count": 11,
   "metadata": {},
   "outputs": [
    {
     "data": {
      "text/plain": [
       "0.0"
      ]
     },
     "execution_count": 11,
     "metadata": {},
     "output_type": "execute_result"
    }
   ],
   "source": [
    "spkts = h.Vector()\n",
    "\n",
    "# inactive NetCon just record spiketime\n",
    "spkts_nc = h.NetCon(iaf, None)\n",
    "\n",
    "spkts_nc.record(spkts)"
   ]
  },
  {
   "cell_type": "code",
   "execution_count": 12,
   "metadata": {},
   "outputs": [
    {
     "data": {
      "text/plain": [
       "0.0"
      ]
     },
     "execution_count": 12,
     "metadata": {},
     "output_type": "execute_result"
    }
   ],
   "source": [
    "h.init()\n",
    "h.run()"
   ]
  },
  {
   "cell_type": "code",
   "execution_count": 13,
   "metadata": {},
   "outputs": [],
   "source": [
    "# catch the last analytic variable of IntFire1\n",
    "#vvec.append(iaf.M())"
   ]
  },
  {
   "cell_type": "code",
   "execution_count": 14,
   "metadata": {
    "scrolled": false
   },
   "outputs": [
    {
     "data": {
      "image/png": "[encoded data removed]",
      "text/plain": [
       "<Figure size 432x288 with 2 Axes>"
      ]
     },
     "metadata": {
      "needs_background": "light"
     },
     "output_type": "display_data"
    }
   ],
   "source": [
    "import matplotlib.pyplot as plt\n",
    "\n",
    "plt.figure()\n",
    "\n",
    "plt.subplot(2,1,1)\n",
    "plt.plot(tvec, vvec)\n",
    "plt.xlim(tvec.min(), tvec.max())\n",
    "\n",
    "plt.subplot(2,1,2)\n",
    "plt.eventplot(spkts)\n",
    "plt.xlim(tvec.min(), tvec.max())\n",
    "\n",
    "plt.show()"
   ]
  },
  {
   "cell_type": "code",
   "execution_count": null,
   "metadata": {},
   "outputs": [],
   "source": []
  }
 ],
 "metadata": {
  "kernelspec": {
   "display_name": "Python 3",
   "language": "python",
   "name": "python3"
  },
  "language_info": {
   "codemirror_mode": {
    "name": "ipython",
    "version": 3
   },
   "file_extension": ".py",
   "mimetype": "text/x-python",
   "name": "python",
   "nbconvert_exporter": "python",
   "pygments_lexer": "ipython3",
   "version": "3.8.10"
  }
 },
 "nbformat": 4,
 "nbformat_minor": 4
}
