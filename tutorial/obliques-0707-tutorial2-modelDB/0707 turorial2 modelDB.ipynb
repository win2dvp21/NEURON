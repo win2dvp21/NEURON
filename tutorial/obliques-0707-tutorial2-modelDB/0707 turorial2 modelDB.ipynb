{
 "cells": [
  {
   "cell_type": "code",
   "execution_count": 1,
   "metadata": {},
   "outputs": [
    {
     "name": "stdout",
     "output_type": "stream",
     "text": [
      "Requirement already satisfied: neuron in /home/hjang/data2/win2dvp21/.local/lib/python3.8/site-packages (8.2.2)\r\n",
      "Requirement already satisfied: numpy>=1.9.3 in /home/hjang/data2/win2dvp21/.local/lib/python3.8/site-packages (from neuron) (1.24.4)\r\n"
     ]
    }
   ],
   "source": [
    "!pip install neuron"
   ]
  },
  {
   "cell_type": "code",
   "execution_count": 2,
   "metadata": {},
   "outputs": [
    {
     "name": "stdout",
     "output_type": "stream",
     "text": [
      "/home/hjang/data2/win2dvp21/Desktop/NEURON-practice/obliques-0707-tutorial2-modelDB\n",
      "Mod files: \"./distr.mod\" \"./h.mod\" \"./kadist.mod\" \"./kaprox.mod\" \"./kdrca1.mod\" \"./na3n.mod\" \"./naxn.mod\" \"./netstims.mod\"\n",
      "\n",
      "Creating 'x86_64' directory for .o files.\n",
      "\n",
      " -> \u001b[32mCompiling\u001b[0m mod_func.cpp\n",
      " -> \u001b[32mNMODL\u001b[0m ../distr.mod\n",
      " -> \u001b[32mNMODL\u001b[0m ../h.mod\n",
      " -> \u001b[32mNMODL\u001b[0m ../kadist.mod\n",
      "Translating distr.mod into /home/hjang/data2/win2dvp21/Desktop/NEURON-practice/obliques-0707-tutorial2-modelDB/x86_64/distr.c\n",
      "Translating h.mod into /home/hjang/data2/win2dvp21/Desktop/NEURON-practice/obliques-0707-tutorial2-modelDB/x86_64/h.c\n",
      "Translating kadist.mod into /home/hjang/data2/win2dvp21/Desktop/NEURON-practice/obliques-0707-tutorial2-modelDB/x86_64/kadist.c\n",
      "Thread Safe\n",
      "Notice: Assignment to the GLOBAL variable, \"linf\", is not thread safe\n",
      "Notice: Assignment to the GLOBAL variable, \"taul\", is not thread safe\n",
      "Notice: Assignment to the GLOBAL variable, \"linf\", is not thread safe\n",
      "Notice: Assignment to the GLOBAL variable, \"ninf\", is not thread safe\n",
      "Notice: Assignment to the GLOBAL variable, \"taun\", is not thread safe\n",
      "Notice: Assignment to the GLOBAL variable, \"taul\", is not thread safe\n",
      " -> \u001b[32mNMODL\u001b[0m ../kaprox.mod\n",
      " -> \u001b[32mNMODL\u001b[0m ../kdrca1.mod\n",
      " -> \u001b[32mNMODL\u001b[0m ../na3n.mod\n",
      "Translating kaprox.mod into /home/hjang/data2/win2dvp21/Desktop/NEURON-practice/obliques-0707-tutorial2-modelDB/x86_64/kaprox.c\n",
      "Translating kdrca1.mod into /home/hjang/data2/win2dvp21/Desktop/NEURON-practice/obliques-0707-tutorial2-modelDB/x86_64/kdrca1.c\n",
      "Translating na3n.mod into /home/hjang/data2/win2dvp21/Desktop/NEURON-practice/obliques-0707-tutorial2-modelDB/x86_64/na3n.c\n",
      "Notice: Assignment to the GLOBAL variable, \"linf\", is not thread safe\n",
      "Notice: Assignment to the GLOBAL variable, \"ninf\", is not thread safe\n",
      "Notice: Assignment to the GLOBAL variable, \"taun\", is not thread safe\n",
      "Notice: Assignment to the GLOBAL variable, \"taul\", is not thread safe\n",
      "Notice: Assignment to the GLOBAL variable, \"ninf\", is not thread safe\n",
      "Notice: Assignment to the GLOBAL variable, \"taun\", is not thread safe\n",
      "Notice: Assignment to the GLOBAL variable, \"htau\", is not thread safe\n",
      "Notice: Assignment to the GLOBAL variable, \"hinf\", is not thread safe\n",
      "Notice: Assignment to the GLOBAL variable, \"mtau\", is not thread safe\n",
      "Notice: Assignment to the GLOBAL variable, \"minf\", is not thread safe\n",
      "Notice: Assignment to the GLOBAL variable, \"sinf\", is not thread safe\n",
      "Notice: Assignment to the GLOBAL variable, \"taus\", is not thread safe\n",
      " -> \u001b[32mNMODL\u001b[0m ../naxn.mod\n",
      " -> \u001b[32mNMODL\u001b[0m ../netstims.mod\n",
      " -> \u001b[32mCompiling\u001b[0m distr.c\n",
      "Translating naxn.mod into /home/hjang/data2/win2dvp21/Desktop/NEURON-practice/obliques-0707-tutorial2-modelDB/x86_64/naxn.c\n",
      "Translating netstims.mod into /home/hjang/data2/win2dvp21/Desktop/NEURON-practice/obliques-0707-tutorial2-modelDB/x86_64/netstims.c\n",
      "Notice: set_seed is not thread safe\n",
      "Notice: exprand is not thread safe\n",
      "Notice: Assignment to the GLOBAL variable, \"htau\", is not thread safe\n",
      "Notice: Assignment to the GLOBAL variable, \"hinf\", is not thread safe\n",
      "Notice: Assignment to the GLOBAL variable, \"mtau\", is not thread safe\n",
      "Notice: Assignment to the GLOBAL variable, \"minf\", is not thread safe\n",
      " -> \u001b[32mCompiling\u001b[0m h.c\n",
      " -> \u001b[32mCompiling\u001b[0m kadist.c\n",
      " -> \u001b[32mCompiling\u001b[0m kaprox.c\n",
      " -> \u001b[32mCompiling\u001b[0m kdrca1.c\n",
      " -> \u001b[32mCompiling\u001b[0m na3n.c\n",
      " -> \u001b[32mCompiling\u001b[0m naxn.c\n",
      " -> \u001b[32mCompiling\u001b[0m netstims.c\n",
      " => \u001b[32mLINKING\u001b[0m shared library ./libnrnmech.so\n",
      " => \u001b[32mLINKING\u001b[0m executable ./special LDFLAGS are:    -pthread\n",
      "Successfully created x86_64/special\n"
     ]
    }
   ],
   "source": [
    "!nrnivmodl"
   ]
  },
  {
   "cell_type": "code",
   "execution_count": null,
   "metadata": {},
   "outputs": [
    {
     "name": "stdout",
     "output_type": "stream",
     "text": [
      "NEURON -- VERSION 8.2.2 HEAD (93d41fafd) 2022-12-15\n",
      "Duke, Yale, and the BlueBrain Project -- Copyright 1984-2022\n",
      "See http://neuron.yale.edu/neuron/credits\n",
      "\n",
      "Additional mechanisms from files\n",
      " \"distr.mod\" \"h.mod\" \"kadist.mod\" \"kaprox.mod\" \"kdrca1.mod\" \"na3n.mod\" \"naxn.mod\" \"netstims.mod\"\n",
      "special: unable to open font \"*helvetica-medium-r-normal*--14*\", using \"fixed\"\n",
      "\t1 \n",
      "\t1 \n",
      "\t1 \n",
      "\t1 \n",
      "\t0 \n",
      "\t1 \n",
      "\t1 \n",
      "\t1 \n",
      "\t1 \n",
      "\t1 \n",
      "\t1 \n",
      "\t0 \n",
      "\t1 \n",
      "\t1 \n",
      "\t0 \n",
      "\t0 \n",
      "\t0 \n",
      "\t0 \n",
      "\t1 \n",
      "\t0 \n",
      "\t1 \n",
      "\t1 \n",
      "\t1 \n",
      "oc>"
     ]
    }
   ],
   "source": [
    "!nrngui fig2A.hoc"
   ]
  },
  {
   "cell_type": "code",
   "execution_count": null,
   "metadata": {},
   "outputs": [],
   "source": []
  }
 ],
 "metadata": {
  "kernelspec": {
   "display_name": "Python 3",
   "language": "python",
   "name": "python3"
  },
  "language_info": {
   "codemirror_mode": {
    "name": "ipython",
    "version": 3
   },
   "file_extension": ".py",
   "mimetype": "text/x-python",
   "name": "python",
   "nbconvert_exporter": "python",
   "pygments_lexer": "ipython3",
   "version": "3.8.10"
  }
 },
 "nbformat": 4,
 "nbformat_minor": 4
}
